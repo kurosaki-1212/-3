{
 "cells": [
  {
   "cell_type": "code",
   "execution_count": 1,
   "id": "441f81a6",
   "metadata": {},
   "outputs": [
    {
     "name": "stdout",
     "output_type": "stream",
     "text": [
      "[[0, 0], [1, 0], [0, 1], [1, 1]] の予測結果： [0 1 1 1]\n",
      "正解率 =  1.0\n"
     ]
    }
   ],
   "source": [
    "# 論理和\n",
    "# ライブラリのインポート\n",
    "from sklearn.svm import LinearSVC\n",
    "from sklearn.metrics import accuracy_score\n",
    "\n",
    "# 学習用データと結果の準備\n",
    "# X, Y\n",
    "learn_data = [[0, 0], [1, 0], [0, 1], [1, 1]]\n",
    "# X or Y\n",
    "learn_label = [0, 1, 1, 1]\n",
    "\n",
    "# アルゴリズムの指定(LinearSVC)\n",
    "clf = LinearSVC()\n",
    "\n",
    "#学習用データと結果の学習\n",
    "clf.fit(learn_data, learn_label)\n",
    "\n",
    "# テストデータによる予測\n",
    "test_data = [[0, 0], [1, 0], [0, 1], [1, 1]]\n",
    "test_label = clf.predict(test_data)\n",
    "\n",
    "# 予測結果の評価\n",
    "print(test_data, 'の予測結果：', test_label)\n",
    "print('正解率 = ', accuracy_score([0, 1, 1, 1], test_label))"
   ]
  },
  {
   "cell_type": "code",
   "execution_count": 10,
   "id": "73e1d06a",
   "metadata": {},
   "outputs": [
    {
     "name": "stdout",
     "output_type": "stream",
     "text": [
      "[[0, 0], [1, 0], [0, 1], [1, 1]] の予測結果： [0 0 0 1]\n",
      "正解率 =  1.0\n"
     ]
    }
   ],
   "source": [
    "# 論理積\n",
    "# ライブラリのインポート\n",
    "from sklearn.svm import LinearSVC\n",
    "from sklearn.metrics import accuracy_score\n",
    "\n",
    "# 学習用データと結果の準備\n",
    "# X, Y\n",
    "learn_data = [[0, 0], [1, 0], [0, 1], [1, 1]]\n",
    "# X and Y\n",
    "learn_label = [0, 0, 0, 1]\n",
    "\n",
    "# アルゴリズムの指定(LinearSVC)\n",
    "clf = LinearSVC()\n",
    "\n",
    "#学習用データと結果の学習\n",
    "clf.fit(learn_data, learn_label)\n",
    "\n",
    "# テストデータによる予測\n",
    "test_data = [[0, 0], [1, 0], [0, 1], [1, 1]]\n",
    "test_label = clf.predict(test_data)\n",
    "\n",
    "# 予測結果の評価\n",
    "print(test_data, 'の予測結果：', test_label)\n",
    "print('正解率 = ', accuracy_score([0, 0, 0, 1], test_label))"
   ]
  },
  {
   "cell_type": "code",
   "execution_count": 7,
   "id": "0a67b3d7",
   "metadata": {},
   "outputs": [
    {
     "name": "stdout",
     "output_type": "stream",
     "text": [
      "[[0, 0], [1, 0], [0, 1], [1, 1]] の予測結果： [0 1 1 1]\n",
      "正解率 =  0.75\n"
     ]
    }
   ],
   "source": [
    "# 排他的論理和\n",
    "# ライブラリのインポート\n",
    "from sklearn.svm import LinearSVC\n",
    "from sklearn.metrics import accuracy_score\n",
    "\n",
    "# 学習用データと結果の準備\n",
    "# X, Y\n",
    "learn_data = [[0, 0], [1, 0], [0, 1], [1, 1]]\n",
    "# X xor Y\n",
    "learn_label = [0, 1, 1, 0]\n",
    "\n",
    "# アルゴリズムの指定(LinearSVC)\n",
    "clf = LinearSVC()\n",
    "\n",
    "#学習用データと結果の学習\n",
    "clf.fit(learn_data, learn_label)\n",
    "\n",
    "# テストデータによる予測\n",
    "test_data = [[0, 0], [1, 0], [0, 1], [1, 1]]\n",
    "test_label = clf.predict(test_data)\n",
    "\n",
    "# 予測結果の評価\n",
    "print(test_data, 'の予測結果：', test_label)\n",
    "print('正解率 = ', accuracy_score([0, 1, 1, 0], test_label))"
   ]
  },
  {
   "cell_type": "code",
   "execution_count": null,
   "id": "9cb690e5",
   "metadata": {},
   "outputs": [],
   "source": []
  }
 ],
 "metadata": {
  "kernelspec": {
   "display_name": "Python 3 (ipykernel)",
   "language": "python",
   "name": "python3"
  },
  "language_info": {
   "codemirror_mode": {
    "name": "ipython",
    "version": 3
   },
   "file_extension": ".py",
   "mimetype": "text/x-python",
   "name": "python",
   "nbconvert_exporter": "python",
   "pygments_lexer": "ipython3",
   "version": "3.9.12"
  }
 },
 "nbformat": 4,
 "nbformat_minor": 5
}
