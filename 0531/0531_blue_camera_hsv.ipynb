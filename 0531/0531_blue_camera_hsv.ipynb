{
 "cells": [
  {
   "cell_type": "code",
   "execution_count": 4,
   "id": "3dafb359",
   "metadata": {},
   "outputs": [],
   "source": [
    "import cv2\n",
    "import numpy as np\n",
    "\n",
    "# Webカメラから入力を開始\n",
    "cap = cv2.VideoCapture(0)\n",
    "while True:\n",
    "    # 画像を取得して縮小する\n",
    "    _, frame = cap.read()\n",
    "    # 画像を縮小表示\n",
    "    frame = cv2.resize(frame, (500, 300))\n",
    "    # 色空間をHSVに変換\n",
    "    hsv = cv2.cvtColor(frame, cv2.COLOR_BGR2HSV_FULL)\n",
    "    # HSVを分割する\n",
    "    h = hsv[:, :, 0]\n",
    "    s = hsv[:, :, 1]\n",
    "    v = hsv[:, :, 2]\n",
    "    \n",
    "    # 青っぽい色を持つ画像だけを抽出\n",
    "    img = np.zeros(h.shape, dtype=np.uint8)\n",
    "    img[((h > 120)|(h < 140)) & (s > 100)] = 255\n",
    "    # ウィンドウに画像を出力\n",
    "    cv2.imshow('Blue Camera', img)\n",
    "    # Enterキーが押されたらループを抜ける\n",
    "    if cv2.waitKey(1) == 13:break\n",
    "        \n",
    "cap.release() # カメラを開放\n",
    "cv2.destroyAllWindows() # ウィンドウを破棄"
   ]
  }
 ],
 "metadata": {
  "kernelspec": {
   "display_name": "Python 3 (ipykernel)",
   "language": "python",
   "name": "python3"
  },
  "language_info": {
   "codemirror_mode": {
    "name": "ipython",
    "version": 3
   },
   "file_extension": ".py",
   "mimetype": "text/x-python",
   "name": "python",
   "nbconvert_exporter": "python",
   "pygments_lexer": "ipython3",
   "version": "3.9.12"
  }
 },
 "nbformat": 4,
 "nbformat_minor": 5
}
