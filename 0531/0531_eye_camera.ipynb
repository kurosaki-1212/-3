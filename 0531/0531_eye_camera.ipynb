{
 "cells": [
  {
   "cell_type": "code",
   "execution_count": 1,
   "id": "5eaf94da",
   "metadata": {},
   "outputs": [],
   "source": [
    "import cv2\n",
    "\n",
    "# カスケードファイル「haarcascade_frontalface_alt.xml」を指定\n",
    "eye_cascade_file = 'haarcascade_eye.xml'\n",
    "# 分類機を作成 \n",
    "eye_cascade = cv2.CascadeClassifier(eye_cascade_file)\n",
    "\n",
    "cap = cv2.VideoCapture(0)\n",
    "img_last = None # 前回の画像を記憶する変数\n",
    "# 線の色の定義\n",
    "blue = (255, 0, 0)\n",
    "\n",
    "while True:\n",
    "    # 画像を取得\n",
    "    _, frame = cap.read()\n",
    "    frame = cv2.resize(frame, (500, 300))\n",
    "    \n",
    "    # 白黒画像に変換\n",
    "    gray = cv2.cvtColor(frame, cv2.COLOR_BGR2GRAY)\n",
    "    gray = cv2.GaussianBlur(gray, (9, 9), 0)\n",
    "    img_b = cv2.threshold(gray, 100, 255, cv2.THRESH_BINARY)[1]\n",
    "    \n",
    "    # 目の検出を実行\n",
    "    eyes = eye_cascade.detectMultiScale(gray, minSize=(50, 50))\n",
    "    \n",
    "    # 差分を確認する\n",
    "    if img_last is None:\n",
    "        img_last = img_b\n",
    "        continue\n",
    "    frame_diff = cv2.absdiff(img_last, img_b)\n",
    "    cnts = cv2.findContours(frame_diff, \n",
    "            cv2.RETR_EXTERNAL,\n",
    "            cv2.CHAIN_APPROX_SIMPLE)[0]\n",
    "    \n",
    "    # 差分があった点を画面に描く\n",
    "    for x, y, w, h in eyes:\n",
    "        cv2.rectangle(frame, (x, y), (x+w, y+h), blue, thickness=5)\n",
    "        \n",
    "    # 今回のフレームを保存\n",
    "    img_last = img_b\n",
    "    # 画面に表示\n",
    "    #(２画面表示されます！！)\n",
    "    cv2.imshow(\"Diff Camera\", frame)\n",
    "    if cv2.waitKey(1) == 13: break\n",
    "cap.release()\n",
    "cv2.destroyAllWindows()"
   ]
  },
  {
   "cell_type": "code",
   "execution_count": null,
   "id": "6842f4c6",
   "metadata": {},
   "outputs": [],
   "source": []
  }
 ],
 "metadata": {
  "kernelspec": {
   "display_name": "Python 3 (ipykernel)",
   "language": "python",
   "name": "python3"
  },
  "language_info": {
   "codemirror_mode": {
    "name": "ipython",
    "version": 3
   },
   "file_extension": ".py",
   "mimetype": "text/x-python",
   "name": "python",
   "nbconvert_exporter": "python",
   "pygments_lexer": "ipython3",
   "version": "3.9.12"
  }
 },
 "nbformat": 4,
 "nbformat_minor": 5
}
